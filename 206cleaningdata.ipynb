{
 "cells": [
  {
   "cell_type": "code",
   "execution_count": 1,
   "id": "08efd578-387c-44ae-9f11-5d42e1b14e6d",
   "metadata": {},
   "outputs": [],
   "source": [
    "import numpy as np # linear algebra\n",
    "import pandas as pd # data processing, CSV file I/O (e.g. pd.read_csv)"
   ]
  },
  {
   "cell_type": "code",
   "execution_count": 3,
   "id": "c77a2f80-667f-498b-a54e-e5a35c6e2284",
   "metadata": {},
   "outputs": [],
   "source": [
    "df = pd.read_csv(\"C:/Users/Amir/OneDrive/Desktop/Car Price Prediction/Car Price Prediction/DB/peugeot-206.csv\")"
   ]
  },
  {
   "cell_type": "code",
   "execution_count": 7,
   "id": "e616e7c8-2b3c-4c45-b011-600763d3afb4",
   "metadata": {},
   "outputs": [
    {
     "data": {
      "text/html": [
       "<div>\n",
       "<style scoped>\n",
       "    .dataframe tbody tr th:only-of-type {\n",
       "        vertical-align: middle;\n",
       "    }\n",
       "\n",
       "    .dataframe tbody tr th {\n",
       "        vertical-align: top;\n",
       "    }\n",
       "\n",
       "    .dataframe thead th {\n",
       "        text-align: right;\n",
       "    }\n",
       "</style>\n",
       "<table border=\"1\" class=\"dataframe\">\n",
       "  <thead>\n",
       "    <tr style=\"text-align: right;\">\n",
       "      <th></th>\n",
       "      <th>Year</th>\n",
       "      <th>Kilometers</th>\n",
       "      <th>Model</th>\n",
       "      <th>Name</th>\n",
       "      <th>Price</th>\n",
       "    </tr>\n",
       "  </thead>\n",
       "  <tbody>\n",
       "    <tr>\n",
       "      <th>0</th>\n",
       "      <td>1388</td>\n",
       "      <td>377000</td>\n",
       "      <td>تیپ 2</td>\n",
       "      <td>پژو 206</td>\n",
       "      <td>277000000</td>\n",
       "    </tr>\n",
       "    <tr>\n",
       "      <th>1</th>\n",
       "      <td>1397</td>\n",
       "      <td>118000</td>\n",
       "      <td>تیپ 2</td>\n",
       "      <td>پژو 206</td>\n",
       "      <td>420000000</td>\n",
       "    </tr>\n",
       "    <tr>\n",
       "      <th>2</th>\n",
       "      <td>1401</td>\n",
       "      <td>0</td>\n",
       "      <td>تیپ 3 پانوراما</td>\n",
       "      <td>پژو 206</td>\n",
       "      <td>630000000</td>\n",
       "    </tr>\n",
       "    <tr>\n",
       "      <th>3</th>\n",
       "      <td>1394</td>\n",
       "      <td>330000</td>\n",
       "      <td>تیپ 5</td>\n",
       "      <td>پژو 206</td>\n",
       "      <td>345000000</td>\n",
       "    </tr>\n",
       "    <tr>\n",
       "      <th>4</th>\n",
       "      <td>1383</td>\n",
       "      <td>420000</td>\n",
       "      <td>تیپ 2</td>\n",
       "      <td>پژو 206</td>\n",
       "      <td>220000000</td>\n",
       "    </tr>\n",
       "    <tr>\n",
       "      <th>5</th>\n",
       "      <td>1394</td>\n",
       "      <td>126000</td>\n",
       "      <td>تیپ 5</td>\n",
       "      <td>پژو 206</td>\n",
       "      <td>455000000</td>\n",
       "    </tr>\n",
       "    <tr>\n",
       "      <th>6</th>\n",
       "      <td>1390</td>\n",
       "      <td>25600</td>\n",
       "      <td>تیپ 6</td>\n",
       "      <td>پژو 206</td>\n",
       "      <td>790000000</td>\n",
       "    </tr>\n",
       "    <tr>\n",
       "      <th>7</th>\n",
       "      <td>1396</td>\n",
       "      <td>20000</td>\n",
       "      <td>تیپ 2</td>\n",
       "      <td>پژو 206</td>\n",
       "      <td>550000000</td>\n",
       "    </tr>\n",
       "    <tr>\n",
       "      <th>8</th>\n",
       "      <td>1399</td>\n",
       "      <td>81000</td>\n",
       "      <td>تیپ 2</td>\n",
       "      <td>پژو 206</td>\n",
       "      <td>465000000</td>\n",
       "    </tr>\n",
       "    <tr>\n",
       "      <th>9</th>\n",
       "      <td>1387</td>\n",
       "      <td>92000</td>\n",
       "      <td>تیپ 2</td>\n",
       "      <td>پژو 206</td>\n",
       "      <td>275000000</td>\n",
       "    </tr>\n",
       "  </tbody>\n",
       "</table>\n",
       "</div>"
      ],
      "text/plain": [
       "   Year  Kilometers           Model     Name      Price\n",
       "0  1388      377000           تیپ 2  پژو 206  277000000\n",
       "1  1397      118000           تیپ 2  پژو 206  420000000\n",
       "2  1401           0  تیپ 3 پانوراما  پژو 206  630000000\n",
       "3  1394      330000           تیپ 5  پژو 206  345000000\n",
       "4  1383      420000           تیپ 2  پژو 206  220000000\n",
       "5  1394      126000           تیپ 5  پژو 206  455000000\n",
       "6  1390       25600           تیپ 6  پژو 206  790000000\n",
       "7  1396       20000           تیپ 2  پژو 206  550000000\n",
       "8  1399       81000           تیپ 2  پژو 206  465000000\n",
       "9  1387       92000           تیپ 2  پژو 206  275000000"
      ]
     },
     "execution_count": 7,
     "metadata": {},
     "output_type": "execute_result"
    }
   ],
   "source": [
    "df.head(10)"
   ]
  },
  {
   "cell_type": "code",
   "execution_count": 9,
   "id": "7c5b86e5-517c-4c32-8236-dac3f900b602",
   "metadata": {},
   "outputs": [
    {
     "name": "stdout",
     "output_type": "stream",
     "text": [
      "0                 2\n",
      "1                 2\n",
      "2        3 پانوراما\n",
      "3                 5\n",
      "4                 2\n",
      "           ...     \n",
      "1007              5\n",
      "1008              5\n",
      "1009              2\n",
      "1010              2\n",
      "1011              2\n",
      "Name: Model, Length: 1012, dtype: object\n"
     ]
    }
   ],
   "source": [
    "# Remove the word \"تیپ\" from the values in the \"Model\" column of the dataframe\n",
    "df['Model'] = df['Model'].str.replace('تیپ', '', regex=False)  # Replace \"تیپ\" with an empty string\n",
    "\n",
    "# Display the results after removing \"تیپ\" from the \"Model\" column\n",
    "print(df['Model'])\n"
   ]
  },
  {
   "cell_type": "code",
   "execution_count": 11,
   "id": "9802711c-0abd-4b6b-972d-8abdc9152caf",
   "metadata": {},
   "outputs": [
    {
     "name": "stdout",
     "output_type": "stream",
     "text": [
      "            Model  has_panorama\n",
      "0               2         False\n",
      "1               2         False\n",
      "2      3 پانوراما          True\n",
      "3               5         False\n",
      "4               2         False\n",
      "...           ...           ...\n",
      "1007            5         False\n",
      "1008            5         False\n",
      "1009            2         False\n",
      "1010            2         False\n",
      "1011            2         False\n",
      "\n",
      "[1012 rows x 2 columns]\n"
     ]
    }
   ],
   "source": [
    "# Create a new column to check for the word \"panorama\"\n",
    "df['has_panorama'] = df['Model'].str.contains('پانوراما')\n",
    "\n",
    "print(df[['Model', 'has_panorama']])"
   ]
  },
  {
   "cell_type": "code",
   "execution_count": 13,
   "id": "a87e973c-9cce-49bd-9ba1-03ef195c760f",
   "metadata": {},
   "outputs": [
    {
     "name": "stdout",
     "output_type": "stream",
     "text": [
      "0         2\n",
      "1         2\n",
      "2        3 \n",
      "3         5\n",
      "4         2\n",
      "       ... \n",
      "1007      5\n",
      "1008      5\n",
      "1009      2\n",
      "1010      2\n",
      "1011      2\n",
      "Name: Model, Length: 1012, dtype: object\n"
     ]
    }
   ],
   "source": [
    "# Removing the word \"panorama\" from the main column\n",
    "df['Model'] = df['Model'].str.replace('پانوراما', '', regex=False)\n",
    "\n",
    "print(df['Model'])\n"
   ]
  },
  {
   "cell_type": "code",
   "execution_count": 15,
   "id": "63b8ddd8-1d94-45f2-9f9a-3923d39c720b",
   "metadata": {},
   "outputs": [
    {
     "data": {
      "text/plain": [
       "Year            0\n",
       "Kilometers      0\n",
       "Model           0\n",
       "Name            0\n",
       "Price           0\n",
       "has_panorama    0\n",
       "dtype: int64"
      ]
     },
     "execution_count": 15,
     "metadata": {},
     "output_type": "execute_result"
    }
   ],
   "source": [
    "# Check for missing (null) values in each column of the DataFrame\n",
    "null_counts = df.isnull().sum()  # Count the number of null values in each column\n",
    "\n",
    "# Print the result to display the count of missing values for each column\n",
    "null_counts\n"
   ]
  },
  {
   "cell_type": "code",
   "execution_count": 17,
   "id": "e35fc571-ba52-4577-9982-a0b588bea2cb",
   "metadata": {},
   "outputs": [
    {
     "data": {
      "text/html": [
       "<div>\n",
       "<style scoped>\n",
       "    .dataframe tbody tr th:only-of-type {\n",
       "        vertical-align: middle;\n",
       "    }\n",
       "\n",
       "    .dataframe tbody tr th {\n",
       "        vertical-align: top;\n",
       "    }\n",
       "\n",
       "    .dataframe thead th {\n",
       "        text-align: right;\n",
       "    }\n",
       "</style>\n",
       "<table border=\"1\" class=\"dataframe\">\n",
       "  <thead>\n",
       "    <tr style=\"text-align: right;\">\n",
       "      <th></th>\n",
       "      <th>Year</th>\n",
       "      <th>Kilometers</th>\n",
       "      <th>Model</th>\n",
       "      <th>Name</th>\n",
       "      <th>Price</th>\n",
       "      <th>has_panorama</th>\n",
       "    </tr>\n",
       "  </thead>\n",
       "  <tbody>\n",
       "    <tr>\n",
       "      <th>0</th>\n",
       "      <td>1388</td>\n",
       "      <td>377000</td>\n",
       "      <td>2</td>\n",
       "      <td>پژو 206</td>\n",
       "      <td>277000000</td>\n",
       "      <td>False</td>\n",
       "    </tr>\n",
       "    <tr>\n",
       "      <th>1</th>\n",
       "      <td>1397</td>\n",
       "      <td>118000</td>\n",
       "      <td>2</td>\n",
       "      <td>پژو 206</td>\n",
       "      <td>420000000</td>\n",
       "      <td>False</td>\n",
       "    </tr>\n",
       "    <tr>\n",
       "      <th>2</th>\n",
       "      <td>1401</td>\n",
       "      <td>0</td>\n",
       "      <td>3</td>\n",
       "      <td>پژو 206</td>\n",
       "      <td>630000000</td>\n",
       "      <td>True</td>\n",
       "    </tr>\n",
       "    <tr>\n",
       "      <th>3</th>\n",
       "      <td>1394</td>\n",
       "      <td>330000</td>\n",
       "      <td>5</td>\n",
       "      <td>پژو 206</td>\n",
       "      <td>345000000</td>\n",
       "      <td>False</td>\n",
       "    </tr>\n",
       "    <tr>\n",
       "      <th>4</th>\n",
       "      <td>1383</td>\n",
       "      <td>420000</td>\n",
       "      <td>2</td>\n",
       "      <td>پژو 206</td>\n",
       "      <td>220000000</td>\n",
       "      <td>False</td>\n",
       "    </tr>\n",
       "  </tbody>\n",
       "</table>\n",
       "</div>"
      ],
      "text/plain": [
       "   Year  Kilometers Model     Name      Price  has_panorama\n",
       "0  1388      377000     2  پژو 206  277000000         False\n",
       "1  1397      118000     2  پژو 206  420000000         False\n",
       "2  1401           0    3   پژو 206  630000000          True\n",
       "3  1394      330000     5  پژو 206  345000000         False\n",
       "4  1383      420000     2  پژو 206  220000000         False"
      ]
     },
     "execution_count": 17,
     "metadata": {},
     "output_type": "execute_result"
    }
   ],
   "source": [
    "df.head()"
   ]
  },
  {
   "cell_type": "code",
   "execution_count": null,
   "id": "1fce9c06-b4b1-4e08-89ff-fd53af314216",
   "metadata": {},
   "outputs": [],
   "source": []
  }
 ],
 "metadata": {
  "kernelspec": {
   "display_name": "Python 3 (ipykernel)",
   "language": "python",
   "name": "python3"
  },
  "language_info": {
   "codemirror_mode": {
    "name": "ipython",
    "version": 3
   },
   "file_extension": ".py",
   "mimetype": "text/x-python",
   "name": "python",
   "nbconvert_exporter": "python",
   "pygments_lexer": "ipython3",
   "version": "3.12.4"
  }
 },
 "nbformat": 4,
 "nbformat_minor": 5
}
